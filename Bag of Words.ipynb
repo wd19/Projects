{
 "cells": [
  {
   "cell_type": "markdown",
   "metadata": {},
   "source": [
    "#### Convert text to a numerical representation callled a feature vector = list of numbers"
   ]
  },
  {
   "cell_type": "code",
   "execution_count": 1,
   "metadata": {},
   "outputs": [
    {
     "data": {
      "text/plain": [
       "[{'city': 'Dubai', 'temperture': 33.0},\n",
       " {'city': 'London', 'temperture': 12.0},\n",
       " {'city': 'San Francisco', 'temperture': 18.0}]"
      ]
     },
     "execution_count": 1,
     "metadata": {},
     "output_type": "execute_result"
    }
   ],
   "source": [
    "measurements=[{'city':'Dubai','temperture':33.},{'city':'London','temperture':12.},{'city':'San Francisco','temperture':18.},]\n",
    "measurements"
   ]
  },
  {
   "cell_type": "markdown",
   "metadata": {},
   "source": [
    "#### Transform lists of feature-value mappings to vectors"
   ]
  },
  {
   "cell_type": "code",
   "execution_count": 60,
   "metadata": {},
   "outputs": [],
   "source": [
    "from sklearn.feature_extraction import DictVectorizer\n",
    "vec=DictVectorizer()"
   ]
  },
  {
   "cell_type": "code",
   "execution_count": 61,
   "metadata": {},
   "outputs": [
    {
     "data": {
      "text/plain": [
       "array([[ 1.,  0.,  0., 33.],\n",
       "       [ 0.,  1.,  0., 12.],\n",
       "       [ 0.,  0.,  1., 18.]])"
      ]
     },
     "execution_count": 61,
     "metadata": {},
     "output_type": "execute_result"
    }
   ],
   "source": [
    "vec.fit_transform(measurements).toarray()"
   ]
  },
  {
   "cell_type": "code",
   "execution_count": 62,
   "metadata": {},
   "outputs": [
    {
     "data": {
      "text/plain": [
       "['city=Dubai', 'city=London', 'city=San Francisco', 'temperture']"
      ]
     },
     "execution_count": 62,
     "metadata": {},
     "output_type": "execute_result"
    }
   ],
   "source": [
    "vec.get_feature_names()"
   ]
  },
  {
   "cell_type": "markdown",
   "metadata": {},
   "source": [
    "## Convert a collection of text documents to a matrix of token counts"
   ]
  },
  {
   "cell_type": "code",
   "execution_count": 70,
   "metadata": {},
   "outputs": [],
   "source": [
    "corpus=['Mcmaster BDA 102 is an interesting course','I cannot wait for Sunday!',\n",
    "        'McMaster student shall use BDA 102 to successfully combat skynet',\n",
    "        'Terminators you are not going down',\n",
    "        'Sarah Conor is out of your reach']"
   ]
  },
  {
   "cell_type": "code",
   "execution_count": 71,
   "metadata": {},
   "outputs": [
    {
     "name": "stdout",
     "output_type": "stream",
     "text": [
      "<class 'list'>\n"
     ]
    }
   ],
   "source": [
    "print(type(corpus))"
   ]
  },
  {
   "cell_type": "code",
   "execution_count": 72,
   "metadata": {},
   "outputs": [
    {
     "name": "stdout",
     "output_type": "stream",
     "text": [
      "5\n"
     ]
    }
   ],
   "source": [
    "print(len(corpus))"
   ]
  },
  {
   "cell_type": "code",
   "execution_count": 73,
   "metadata": {},
   "outputs": [
    {
     "name": "stdout",
     "output_type": "stream",
     "text": [
      "['Mcmaster BDA 102 is an interesting course', 'I cannot wait for Sunday!', 'McMaster student shall use BDA 102 to successfully combat skynet', 'Terminators you are not going down', 'Sarah Conor is out of your reach']\n"
     ]
    }
   ],
   "source": [
    "print(corpus)"
   ]
  },
  {
   "cell_type": "code",
   "execution_count": 76,
   "metadata": {},
   "outputs": [
    {
     "name": "stdout",
     "output_type": "stream",
     "text": [
      "CountVectorizer(analyzer='word', binary=False, decode_error='strict',\n",
      "        dtype=<class 'numpy.int64'>, encoding='utf-8', input='content',\n",
      "        lowercase=True, max_df=1.0, max_features=None, min_df=1,\n",
      "        ngram_range=(1, 1), preprocessor=None, stop_words=None,\n",
      "        strip_accents=None, token_pattern='(?u)\\\\b\\\\w\\\\w+\\\\b',\n",
      "        tokenizer=None, vocabulary=None)\n"
     ]
    }
   ],
   "source": [
    "from sklearn.feature_extraction.text import CountVectorizer\n",
    "vectorizer=CountVectorizer()\n",
    "print(vectorizer)"
   ]
  },
  {
   "cell_type": "code",
   "execution_count": 77,
   "metadata": {},
   "outputs": [],
   "source": [
    "result=vectorizer.fit_transform(corpus).todense()\n",
    "# todense() converts to a sparse matrix"
   ]
  },
  {
   "cell_type": "code",
   "execution_count": 78,
   "metadata": {},
   "outputs": [
    {
     "name": "stdout",
     "output_type": "stream",
     "text": [
      "[[1 1 0 1 0 0 0 1 0 0 0 1 1 1 0 0 0 0 0 0 0 0 0 0 0 0 0 0 0 0]\n",
      " [0 0 0 0 1 0 0 0 0 1 0 0 0 0 0 0 0 0 0 0 0 0 0 1 0 0 0 1 0 0]\n",
      " [1 0 0 1 0 1 0 0 0 0 0 0 0 1 0 0 0 0 0 1 1 1 1 0 0 1 1 0 0 0]\n",
      " [0 0 1 0 0 0 0 0 1 0 1 0 0 0 1 0 0 0 0 0 0 0 0 0 1 0 0 0 1 0]\n",
      " [0 0 0 0 0 0 1 0 0 0 0 0 1 0 0 1 1 1 1 0 0 0 0 0 0 0 0 0 0 1]]\n"
     ]
    }
   ],
   "source": [
    "print(result)"
   ]
  },
  {
   "cell_type": "code",
   "execution_count": 80,
   "metadata": {},
   "outputs": [
    {
     "name": "stdout",
     "output_type": "stream",
     "text": [
      "{'mcmaster': 13, 'bda': 3, '102': 0, 'is': 12, 'an': 1, 'interesting': 11, 'course': 7, 'cannot': 4, 'wait': 27, 'for': 9, 'sunday': 23, 'student': 21, 'shall': 19, 'use': 26, 'to': 25, 'successfully': 22, 'combat': 5, 'skynet': 20, 'terminators': 24, 'you': 28, 'are': 2, 'not': 14, 'going': 10, 'down': 8, 'sarah': 18, 'conor': 6, 'out': 16, 'of': 15, 'your': 29, 'reach': 17}\n"
     ]
    }
   ],
   "source": [
    "print(vectorizer.vocabulary_)"
   ]
  },
  {
   "cell_type": "code",
   "execution_count": 81,
   "metadata": {},
   "outputs": [
    {
     "data": {
      "text/html": [
       "<div>\n",
       "<style scoped>\n",
       "    .dataframe tbody tr th:only-of-type {\n",
       "        vertical-align: middle;\n",
       "    }\n",
       "\n",
       "    .dataframe tbody tr th {\n",
       "        vertical-align: top;\n",
       "    }\n",
       "\n",
       "    .dataframe thead th {\n",
       "        text-align: right;\n",
       "    }\n",
       "</style>\n",
       "<table border=\"1\" class=\"dataframe\">\n",
       "  <thead>\n",
       "    <tr style=\"text-align: right;\">\n",
       "      <th></th>\n",
       "      <th>102</th>\n",
       "      <th>an</th>\n",
       "      <th>are</th>\n",
       "      <th>bda</th>\n",
       "      <th>cannot</th>\n",
       "      <th>combat</th>\n",
       "      <th>conor</th>\n",
       "      <th>course</th>\n",
       "      <th>down</th>\n",
       "      <th>for</th>\n",
       "      <th>...</th>\n",
       "      <th>skynet</th>\n",
       "      <th>student</th>\n",
       "      <th>successfully</th>\n",
       "      <th>sunday</th>\n",
       "      <th>terminators</th>\n",
       "      <th>to</th>\n",
       "      <th>use</th>\n",
       "      <th>wait</th>\n",
       "      <th>you</th>\n",
       "      <th>your</th>\n",
       "    </tr>\n",
       "  </thead>\n",
       "  <tbody>\n",
       "    <tr>\n",
       "      <th>0</th>\n",
       "      <td>1</td>\n",
       "      <td>1</td>\n",
       "      <td>0</td>\n",
       "      <td>1</td>\n",
       "      <td>0</td>\n",
       "      <td>0</td>\n",
       "      <td>0</td>\n",
       "      <td>1</td>\n",
       "      <td>0</td>\n",
       "      <td>0</td>\n",
       "      <td>...</td>\n",
       "      <td>0</td>\n",
       "      <td>0</td>\n",
       "      <td>0</td>\n",
       "      <td>0</td>\n",
       "      <td>0</td>\n",
       "      <td>0</td>\n",
       "      <td>0</td>\n",
       "      <td>0</td>\n",
       "      <td>0</td>\n",
       "      <td>0</td>\n",
       "    </tr>\n",
       "    <tr>\n",
       "      <th>1</th>\n",
       "      <td>0</td>\n",
       "      <td>0</td>\n",
       "      <td>0</td>\n",
       "      <td>0</td>\n",
       "      <td>1</td>\n",
       "      <td>0</td>\n",
       "      <td>0</td>\n",
       "      <td>0</td>\n",
       "      <td>0</td>\n",
       "      <td>1</td>\n",
       "      <td>...</td>\n",
       "      <td>0</td>\n",
       "      <td>0</td>\n",
       "      <td>0</td>\n",
       "      <td>1</td>\n",
       "      <td>0</td>\n",
       "      <td>0</td>\n",
       "      <td>0</td>\n",
       "      <td>1</td>\n",
       "      <td>0</td>\n",
       "      <td>0</td>\n",
       "    </tr>\n",
       "    <tr>\n",
       "      <th>2</th>\n",
       "      <td>1</td>\n",
       "      <td>0</td>\n",
       "      <td>0</td>\n",
       "      <td>1</td>\n",
       "      <td>0</td>\n",
       "      <td>1</td>\n",
       "      <td>0</td>\n",
       "      <td>0</td>\n",
       "      <td>0</td>\n",
       "      <td>0</td>\n",
       "      <td>...</td>\n",
       "      <td>1</td>\n",
       "      <td>1</td>\n",
       "      <td>1</td>\n",
       "      <td>0</td>\n",
       "      <td>0</td>\n",
       "      <td>1</td>\n",
       "      <td>1</td>\n",
       "      <td>0</td>\n",
       "      <td>0</td>\n",
       "      <td>0</td>\n",
       "    </tr>\n",
       "    <tr>\n",
       "      <th>3</th>\n",
       "      <td>0</td>\n",
       "      <td>0</td>\n",
       "      <td>1</td>\n",
       "      <td>0</td>\n",
       "      <td>0</td>\n",
       "      <td>0</td>\n",
       "      <td>0</td>\n",
       "      <td>0</td>\n",
       "      <td>1</td>\n",
       "      <td>0</td>\n",
       "      <td>...</td>\n",
       "      <td>0</td>\n",
       "      <td>0</td>\n",
       "      <td>0</td>\n",
       "      <td>0</td>\n",
       "      <td>1</td>\n",
       "      <td>0</td>\n",
       "      <td>0</td>\n",
       "      <td>0</td>\n",
       "      <td>1</td>\n",
       "      <td>0</td>\n",
       "    </tr>\n",
       "    <tr>\n",
       "      <th>4</th>\n",
       "      <td>0</td>\n",
       "      <td>0</td>\n",
       "      <td>0</td>\n",
       "      <td>0</td>\n",
       "      <td>0</td>\n",
       "      <td>0</td>\n",
       "      <td>1</td>\n",
       "      <td>0</td>\n",
       "      <td>0</td>\n",
       "      <td>0</td>\n",
       "      <td>...</td>\n",
       "      <td>0</td>\n",
       "      <td>0</td>\n",
       "      <td>0</td>\n",
       "      <td>0</td>\n",
       "      <td>0</td>\n",
       "      <td>0</td>\n",
       "      <td>0</td>\n",
       "      <td>0</td>\n",
       "      <td>0</td>\n",
       "      <td>1</td>\n",
       "    </tr>\n",
       "  </tbody>\n",
       "</table>\n",
       "<p>5 rows × 30 columns</p>\n",
       "</div>"
      ],
      "text/plain": [
       "   102  an  are  bda  cannot  combat  conor  course  down  for  ...   skynet  \\\n",
       "0    1   1    0    1       0       0      0       1     0    0  ...        0   \n",
       "1    0   0    0    0       1       0      0       0     0    1  ...        0   \n",
       "2    1   0    0    1       0       1      0       0     0    0  ...        1   \n",
       "3    0   0    1    0       0       0      0       0     1    0  ...        0   \n",
       "4    0   0    0    0       0       0      1       0     0    0  ...        0   \n",
       "\n",
       "   student  successfully  sunday  terminators  to  use  wait  you  your  \n",
       "0        0             0       0            0   0    0     0    0     0  \n",
       "1        0             0       1            0   0    0     1    0     0  \n",
       "2        1             1       0            0   1    1     0    0     0  \n",
       "3        0             0       0            1   0    0     0    1     0  \n",
       "4        0             0       0            0   0    0     0    0     1  \n",
       "\n",
       "[5 rows x 30 columns]"
      ]
     },
     "execution_count": 81,
     "metadata": {},
     "output_type": "execute_result"
    }
   ],
   "source": [
    "import pandas as pd\n",
    "df=pd.DataFrame(vectorizer.transform(corpus).toarray(),\n",
    "               columns=vectorizer.get_feature_names())\n",
    "df"
   ]
  },
  {
   "cell_type": "markdown",
   "metadata": {},
   "source": [
    "### Application"
   ]
  },
  {
   "cell_type": "code",
   "execution_count": 82,
   "metadata": {},
   "outputs": [],
   "source": [
    "train_set=['The sky is blue.','The sun is bright.']\n",
    "test_set=['The sun in the sky is bright.','We can see the shining sun, the bright sun','sky is blue']"
   ]
  },
  {
   "cell_type": "code",
   "execution_count": 83,
   "metadata": {},
   "outputs": [
    {
     "name": "stdout",
     "output_type": "stream",
     "text": [
      "[[1 0 1 0]\n",
      " [0 1 0 1]]\n"
     ]
    }
   ],
   "source": [
    "from sklearn.feature_extraction.text import CountVectorizer\n",
    "vectorizer=CountVectorizer(stop_words='english')\n",
    "result=vectorizer.fit_transform(train_set).todense()\n",
    "print(result)"
   ]
  },
  {
   "cell_type": "code",
   "execution_count": 84,
   "metadata": {},
   "outputs": [
    {
     "name": "stdout",
     "output_type": "stream",
     "text": [
      "{'sky': 2, 'blue': 0, 'sun': 3, 'bright': 1}\n"
     ]
    }
   ],
   "source": [
    "print(vectorizer.vocabulary_)"
   ]
  },
  {
   "cell_type": "raw",
   "metadata": {},
   "source": [
    "print(vectorizer.transform(test_set).todense())"
   ]
  },
  {
   "cell_type": "code",
   "execution_count": 85,
   "metadata": {},
   "outputs": [
    {
     "name": "stdout",
     "output_type": "stream",
     "text": [
      "{'sky': 2, 'blue': 0, 'sun': 3, 'bright': 1}\n"
     ]
    }
   ],
   "source": [
    "print(vectorizer.vocabulary_)"
   ]
  },
  {
   "cell_type": "markdown",
   "metadata": {},
   "source": [
    "## Class Activity"
   ]
  },
  {
   "cell_type": "markdown",
   "metadata": {},
   "source": [
    "### Create a list with variables containing each text messages"
   ]
  },
  {
   "cell_type": "code",
   "execution_count": 86,
   "metadata": {},
   "outputs": [],
   "source": [
    "avengers1='Avengers: Age of Ultron is a 2015 American superhero film based on the Marvel Comics superhero team the Avengers, produced by Marvel Studios and distributed by Walt Disney Studios Motion Pictures. It is the sequel to 2012s The Avengers and the eleventh film in the Marvel Cinematic Universe (MCU). The film was written and directed by Joss Whedon and features an ensemble cast that includes Robert Downey Jr., Chris Hemsworth, Mark Ruffalo, Chris Evans, Scarlett Johansson, Jeremy Renner, Don Cheadle, Aaron Taylor-Johnson, Elizabeth Olsen, Paul Bettany, Cobie Smulders, Anthony Mackie, Hayley Atwell, Idris Elba, Stellan Skarsgård, James Spader, and Samuel L. Jackson. In Avengers: Age of Ultron, the Avengers fight Ultron, an artificial intelligence obsessed with causing human extinction'\n",
    "avengers2='Avengers: Infinity War is a 2018 American superhero film based on the Marvel Comics superhero team the Avengers, produced by Marvel Studios and distributed by Walt Disney Studios Motion Pictures. It is the sequel to 2012s The Avengers and 2015s Avengers: Age of Ultron, and the nineteenth film in the Marvel Cinematic Universe (MCU). The film is directed by Anthony and Joe Russo, written by Christopher Markus and Stephen McFeely, and features an ensemble cast including Robert Downey Jr., Chris Hemsworth, Mark Ruffalo, Chris Evans, Scarlett Johansson, Benedict Cumberbatch, Don Cheadle, Tom Holland, Chadwick Boseman, Paul Bettany, Elizabeth Olsen, Anthony Mackie, Sebastian Stan, Danai Gurira, Letitia Wright, Dave Bautista, Zoe Saldana, Josh Brolin, and Chris Pratt. In Avengers: Infinity War, the Avengers and the Guardians of the Galaxy attempt to stop Thanos from amassing the all-powerful Infinity Stones'"
   ]
  },
  {
   "cell_type": "code",
   "execution_count": 87,
   "metadata": {},
   "outputs": [],
   "source": [
    "avengers_train=[avengers1,avengers2]"
   ]
  },
  {
   "cell_type": "markdown",
   "metadata": {},
   "source": [
    "### Build vocabulary and then print array for the list"
   ]
  },
  {
   "cell_type": "code",
   "execution_count": 94,
   "metadata": {},
   "outputs": [],
   "source": [
    "from sklearn.feature_extraction.text import CountVectorizer\n",
    "vectorizer=CountVectorizer(stop_words='english')"
   ]
  },
  {
   "cell_type": "code",
   "execution_count": 95,
   "metadata": {},
   "outputs": [
    {
     "data": {
      "text/plain": [
       "<2x113 sparse matrix of type '<class 'numpy.int64'>'\n",
       "\twith 158 stored elements in Compressed Sparse Row format>"
      ]
     },
     "execution_count": 95,
     "metadata": {},
     "output_type": "execute_result"
    }
   ],
   "source": [
    "vectorizer.fit_transform(avengers_train)"
   ]
  },
  {
   "cell_type": "code",
   "execution_count": 96,
   "metadata": {},
   "outputs": [],
   "source": [
    "#vectorizer.fit_transform(avengers_train).todense()"
   ]
  },
  {
   "cell_type": "code",
   "execution_count": 97,
   "metadata": {},
   "outputs": [
    {
     "name": "stdout",
     "output_type": "stream",
     "text": [
      "{'avengers': 12, 'age': 5, 'ultron': 105, '2015': 1, 'american': 7, 'superhero': 100, 'film': 44, 'based': 13, 'marvel': 70, 'comics': 27, 'team': 102, 'produced': 81, 'studios': 99, 'distributed': 33, 'walt': 107, 'disney': 32, 'motion': 73, 'pictures': 78, 'sequel': 90, '2012s': 0, 'eleventh': 37, 'cinematic': 25, 'universe': 106, 'mcu': 72, 'written': 111, 'directed': 31, 'joss': 64, 'whedon': 109, 'features': 42, 'ensemble': 39, 'cast': 19, 'includes': 53, 'robert': 83, 'downey': 35, 'jr': 65, 'chris': 23, 'hemsworth': 49, 'mark': 68, 'ruffalo': 84, 'evans': 40, 'scarlett': 88, 'johansson': 61, 'jeremy': 59, 'renner': 82, 'don': 34, 'cheadle': 22, 'aaron': 4, 'taylor': 101, 'johnson': 62, 'elizabeth': 38, 'olsen': 76, 'paul': 77, 'bettany': 16, 'cobie': 26, 'smulders': 92, 'anthony': 8, 'mackie': 67, 'hayley': 48, 'atwell': 11, 'idris': 52, 'elba': 36, 'stellan': 95, 'skarsgård': 91, 'james': 58, 'spader': 93, 'samuel': 87, 'jackson': 57, 'fight': 43, 'artificial': 9, 'intelligence': 56, 'obsessed': 75, 'causing': 20, 'human': 51, 'extinction': 41, 'infinity': 55, 'war': 108, '2018': 3, '2015s': 2, 'nineteenth': 74, 'joe': 60, 'russo': 85, 'christopher': 24, 'markus': 69, 'stephen': 96, 'mcfeely': 71, 'including': 54, 'benedict': 15, 'cumberbatch': 28, 'tom': 104, 'holland': 50, 'chadwick': 21, 'boseman': 17, 'sebastian': 89, 'stan': 94, 'danai': 29, 'gurira': 47, 'letitia': 66, 'wright': 110, 'dave': 30, 'bautista': 14, 'zoe': 112, 'saldana': 86, 'josh': 63, 'brolin': 18, 'pratt': 80, 'guardians': 46, 'galaxy': 45, 'attempt': 10, 'stop': 98, 'thanos': 103, 'amassing': 6, 'powerful': 79, 'stones': 97}\n"
     ]
    }
   ],
   "source": [
    "print(vectorizer.vocabulary_)"
   ]
  },
  {
   "cell_type": "code",
   "execution_count": 98,
   "metadata": {},
   "outputs": [
    {
     "data": {
      "text/html": [
       "<div>\n",
       "<style scoped>\n",
       "    .dataframe tbody tr th:only-of-type {\n",
       "        vertical-align: middle;\n",
       "    }\n",
       "\n",
       "    .dataframe tbody tr th {\n",
       "        vertical-align: top;\n",
       "    }\n",
       "\n",
       "    .dataframe thead th {\n",
       "        text-align: right;\n",
       "    }\n",
       "</style>\n",
       "<table border=\"1\" class=\"dataframe\">\n",
       "  <thead>\n",
       "    <tr style=\"text-align: right;\">\n",
       "      <th></th>\n",
       "      <th>2012s</th>\n",
       "      <th>2015</th>\n",
       "      <th>2015s</th>\n",
       "      <th>2018</th>\n",
       "      <th>aaron</th>\n",
       "      <th>age</th>\n",
       "      <th>amassing</th>\n",
       "      <th>american</th>\n",
       "      <th>anthony</th>\n",
       "      <th>artificial</th>\n",
       "      <th>...</th>\n",
       "      <th>thanos</th>\n",
       "      <th>tom</th>\n",
       "      <th>ultron</th>\n",
       "      <th>universe</th>\n",
       "      <th>walt</th>\n",
       "      <th>war</th>\n",
       "      <th>whedon</th>\n",
       "      <th>wright</th>\n",
       "      <th>written</th>\n",
       "      <th>zoe</th>\n",
       "    </tr>\n",
       "  </thead>\n",
       "  <tbody>\n",
       "    <tr>\n",
       "      <th>0</th>\n",
       "      <td>1</td>\n",
       "      <td>1</td>\n",
       "      <td>0</td>\n",
       "      <td>0</td>\n",
       "      <td>1</td>\n",
       "      <td>2</td>\n",
       "      <td>0</td>\n",
       "      <td>1</td>\n",
       "      <td>1</td>\n",
       "      <td>1</td>\n",
       "      <td>...</td>\n",
       "      <td>0</td>\n",
       "      <td>0</td>\n",
       "      <td>3</td>\n",
       "      <td>1</td>\n",
       "      <td>1</td>\n",
       "      <td>0</td>\n",
       "      <td>1</td>\n",
       "      <td>0</td>\n",
       "      <td>1</td>\n",
       "      <td>0</td>\n",
       "    </tr>\n",
       "    <tr>\n",
       "      <th>1</th>\n",
       "      <td>1</td>\n",
       "      <td>0</td>\n",
       "      <td>1</td>\n",
       "      <td>1</td>\n",
       "      <td>0</td>\n",
       "      <td>1</td>\n",
       "      <td>1</td>\n",
       "      <td>1</td>\n",
       "      <td>2</td>\n",
       "      <td>0</td>\n",
       "      <td>...</td>\n",
       "      <td>1</td>\n",
       "      <td>1</td>\n",
       "      <td>1</td>\n",
       "      <td>1</td>\n",
       "      <td>1</td>\n",
       "      <td>2</td>\n",
       "      <td>0</td>\n",
       "      <td>1</td>\n",
       "      <td>1</td>\n",
       "      <td>1</td>\n",
       "    </tr>\n",
       "  </tbody>\n",
       "</table>\n",
       "<p>2 rows × 113 columns</p>\n",
       "</div>"
      ],
      "text/plain": [
       "   2012s  2015  2015s  2018  aaron  age  amassing  american  anthony  \\\n",
       "0      1     1      0     0      1    2         0         1        1   \n",
       "1      1     0      1     1      0    1         1         1        2   \n",
       "\n",
       "   artificial ...   thanos  tom  ultron  universe  walt  war  whedon  wright  \\\n",
       "0           1 ...        0    0       3         1     1    0       1       0   \n",
       "1           0 ...        1    1       1         1     1    2       0       1   \n",
       "\n",
       "   written  zoe  \n",
       "0        1    0  \n",
       "1        1    1  \n",
       "\n",
       "[2 rows x 113 columns]"
      ]
     },
     "execution_count": 98,
     "metadata": {},
     "output_type": "execute_result"
    }
   ],
   "source": [
    "import pandas as pd\n",
    "df=pd.DataFrame(vectorizer.transform(avengers_train).toarray(),columns=vectorizer.get_feature_names())\n",
    "df"
   ]
  },
  {
   "cell_type": "markdown",
   "metadata": {},
   "source": [
    "### Sum the two rows and build a frequency table"
   ]
  },
  {
   "cell_type": "code",
   "execution_count": 100,
   "metadata": {},
   "outputs": [
    {
     "name": "stdout",
     "output_type": "stream",
     "text": [
      "2012s           2\n",
      "2015            1\n",
      "2015s           1\n",
      "2018            1\n",
      "aaron           1\n",
      "age             3\n",
      "amassing        1\n",
      "american        2\n",
      "anthony         3\n",
      "artificial      1\n",
      "attempt         1\n",
      "atwell          1\n",
      "avengers       11\n",
      "based           2\n",
      "bautista        1\n",
      "benedict        1\n",
      "bettany         2\n",
      "boseman         1\n",
      "brolin          1\n",
      "cast            2\n",
      "causing         1\n",
      "chadwick        1\n",
      "cheadle         2\n",
      "chris           5\n",
      "christopher     1\n",
      "cinematic       2\n",
      "cobie           1\n",
      "comics          2\n",
      "cumberbatch     1\n",
      "danai           1\n",
      "               ..\n",
      "robert          2\n",
      "ruffalo         2\n",
      "russo           1\n",
      "saldana         1\n",
      "samuel          1\n",
      "scarlett        2\n",
      "sebastian       1\n",
      "sequel          2\n",
      "skarsgård       1\n",
      "smulders        1\n",
      "spader          1\n",
      "stan            1\n",
      "stellan         1\n",
      "stephen         1\n",
      "stones          1\n",
      "stop            1\n",
      "studios         4\n",
      "superhero       4\n",
      "taylor          1\n",
      "team            2\n",
      "thanos          1\n",
      "tom             1\n",
      "ultron          4\n",
      "universe        2\n",
      "walt            2\n",
      "war             2\n",
      "whedon          1\n",
      "wright          1\n",
      "written         2\n",
      "zoe             1\n",
      "Length: 113, dtype: int64\n"
     ]
    }
   ],
   "source": [
    "avengersSum=df.sum()\n",
    "print(avengersSum)"
   ]
  },
  {
   "cell_type": "markdown",
   "metadata": {},
   "source": [
    "### Check type and see whether it is a dataframe"
   ]
  },
  {
   "cell_type": "code",
   "execution_count": 30,
   "metadata": {},
   "outputs": [
    {
     "data": {
      "text/plain": [
       "pandas.core.series.Series"
      ]
     },
     "execution_count": 30,
     "metadata": {},
     "output_type": "execute_result"
    }
   ],
   "source": [
    "type(avengersSum)"
   ]
  },
  {
   "cell_type": "markdown",
   "metadata": {},
   "source": [
    "### If not dataframe, convert it to a dataframe"
   ]
  },
  {
   "cell_type": "code",
   "execution_count": 101,
   "metadata": {},
   "outputs": [
    {
     "name": "stdout",
     "output_type": "stream",
     "text": [
      "              0\n",
      "2012s         2\n",
      "2015          1\n",
      "2015s         1\n",
      "2018          1\n",
      "aaron         1\n",
      "age           3\n",
      "amassing      1\n",
      "american      2\n",
      "anthony       3\n",
      "artificial    1\n",
      "attempt       1\n",
      "atwell        1\n",
      "avengers     11\n",
      "based         2\n",
      "bautista      1\n",
      "benedict      1\n",
      "bettany       2\n",
      "boseman       1\n",
      "brolin        1\n",
      "cast          2\n",
      "causing       1\n",
      "chadwick      1\n",
      "cheadle       2\n",
      "chris         5\n",
      "christopher   1\n",
      "cinematic     2\n",
      "cobie         1\n",
      "comics        2\n",
      "cumberbatch   1\n",
      "danai         1\n",
      "...          ..\n",
      "robert        2\n",
      "ruffalo       2\n",
      "russo         1\n",
      "saldana       1\n",
      "samuel        1\n",
      "scarlett      2\n",
      "sebastian     1\n",
      "sequel        2\n",
      "skarsgård     1\n",
      "smulders      1\n",
      "spader        1\n",
      "stan          1\n",
      "stellan       1\n",
      "stephen       1\n",
      "stones        1\n",
      "stop          1\n",
      "studios       4\n",
      "superhero     4\n",
      "taylor        1\n",
      "team          2\n",
      "thanos        1\n",
      "tom           1\n",
      "ultron        4\n",
      "universe      2\n",
      "walt          2\n",
      "war           2\n",
      "whedon        1\n",
      "wright        1\n",
      "written       2\n",
      "zoe           1\n",
      "\n",
      "[113 rows x 1 columns]\n"
     ]
    }
   ],
   "source": [
    "avengersSum=avengersSum.to_frame()\n",
    "print(avengersSum)"
   ]
  },
  {
   "cell_type": "code",
   "execution_count": 102,
   "metadata": {},
   "outputs": [
    {
     "name": "stdout",
     "output_type": "stream",
     "text": [
      "(113, 1)\n"
     ]
    }
   ],
   "source": [
    "print(avengersSum.shape)"
   ]
  },
  {
   "cell_type": "markdown",
   "metadata": {},
   "source": [
    "### To this dataframe give a column name"
   ]
  },
  {
   "cell_type": "code",
   "execution_count": 33,
   "metadata": {},
   "outputs": [],
   "source": [
    "avengersSum.columns=['frequency']"
   ]
  },
  {
   "cell_type": "code",
   "execution_count": 34,
   "metadata": {},
   "outputs": [
    {
     "name": "stdout",
     "output_type": "stream",
     "text": [
      "             frequency\n",
      "2012s                2\n",
      "2015                 1\n",
      "2015s                1\n",
      "2018                 1\n",
      "aaron                1\n",
      "age                  3\n",
      "amassing             1\n",
      "american             2\n",
      "anthony              3\n",
      "artificial           1\n",
      "attempt              1\n",
      "atwell               1\n",
      "avengers            11\n",
      "based                2\n",
      "bautista             1\n",
      "benedict             1\n",
      "bettany              2\n",
      "boseman              1\n",
      "brolin               1\n",
      "cast                 2\n",
      "causing              1\n",
      "chadwick             1\n",
      "cheadle              2\n",
      "chris                5\n",
      "christopher          1\n",
      "cinematic            2\n",
      "cobie                1\n",
      "comics               2\n",
      "cumberbatch          1\n",
      "danai                1\n",
      "...                ...\n",
      "robert               2\n",
      "ruffalo              2\n",
      "russo                1\n",
      "saldana              1\n",
      "samuel               1\n",
      "scarlett             2\n",
      "sebastian            1\n",
      "sequel               2\n",
      "skarsgård            1\n",
      "smulders             1\n",
      "spader               1\n",
      "stan                 1\n",
      "stellan              1\n",
      "stephen              1\n",
      "stones               1\n",
      "stop                 1\n",
      "studios              4\n",
      "superhero            4\n",
      "taylor               1\n",
      "team                 2\n",
      "thanos               1\n",
      "tom                  1\n",
      "ultron               4\n",
      "universe             2\n",
      "walt                 2\n",
      "war                  2\n",
      "whedon               1\n",
      "wright               1\n",
      "written              2\n",
      "zoe                  1\n",
      "\n",
      "[113 rows x 1 columns]\n"
     ]
    }
   ],
   "source": [
    "print(avengersSum)"
   ]
  }
 ],
 "metadata": {
  "kernelspec": {
   "display_name": "Python 3",
   "language": "python",
   "name": "python3"
  },
  "language_info": {
   "codemirror_mode": {
    "name": "ipython",
    "version": 3
   },
   "file_extension": ".py",
   "mimetype": "text/x-python",
   "name": "python",
   "nbconvert_exporter": "python",
   "pygments_lexer": "ipython3",
   "version": "3.6.5"
  }
 },
 "nbformat": 4,
 "nbformat_minor": 2
}
